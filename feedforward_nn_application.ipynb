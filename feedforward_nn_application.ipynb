{
 "cells": [
  {
   "cell_type": "code",
   "execution_count": 51,
   "id": "f1fecf42",
   "metadata": {},
   "outputs": [],
   "source": [
    "import numpy as np\n",
    "\n",
    "import torch\n",
    "import torch.nn as nn\n",
    "import torch.optim as optim\n",
    "\n",
    "from utils.data_generation import generate_vectors, generate_scalars\n",
    "from benchmark_functions.sphere import sphere_func\n",
    "from neural_network_models.feedforward_nn import FeedforwardNN"
   ]
  },
  {
   "cell_type": "code",
   "execution_count": 52,
   "id": "5d533119",
   "metadata": {},
   "outputs": [
    {
     "data": {
      "text/plain": [
       "<torch._C.Generator at 0x7f225c278850>"
      ]
     },
     "execution_count": 52,
     "metadata": {},
     "output_type": "execute_result"
    }
   ],
   "source": [
    "# for reproducability \n",
    "np.random.seed(1000)\n",
    "torch.manual_seed(1000)"
   ]
  },
  {
   "cell_type": "code",
   "execution_count": 53,
   "id": "f55bafa4",
   "metadata": {},
   "outputs": [],
   "source": [
    "# training and test data settings\n",
    "input_dimention = 5\n",
    "train_set_size = 800\n",
    "test_set_size = 200\n",
    "domain = [-1, 1]"
   ]
  },
  {
   "cell_type": "code",
   "execution_count": 54,
   "id": "a72e4562",
   "metadata": {},
   "outputs": [],
   "source": [
    "# generate training data\n",
    "training_set_vectors = generate_vectors(input_dimention, domain, train_set_size)\n",
    "training_set_scalars = generate_scalars(training_set_vectors, sphere_func)\n",
    "\n",
    "# generate test data\n",
    "test_set_vectors = generate_vectors(input_dimention, domain, test_set_size)\n",
    "test_set_scalars = generate_vectors(input_dimention, domain, test_set_size)\n",
    "\n",
    "# convert generated data to tensors\n",
    "training_set_vectors = torch.FloatTensor(training_set_vectors)\n",
    "training_set_scalars = torch.FloatTensor(training_set_scalars)\n",
    "\n",
    "test_set_vectors = torch.FloatTensor(test_set_vectors)\n",
    "test_set_scalars = torch.FloatTensor(test_set_scalars)"
   ]
  },
  {
   "cell_type": "code",
   "execution_count": 55,
   "id": "236e2529",
   "metadata": {},
   "outputs": [],
   "source": [
    "# create a NN model\n",
    "model = FeedforwardNN(input_neuron_num = input_dimention, h1_neuron_num = 10, output_neuron_num = 1)\n",
    "\n",
    "loss_func = nn.MSELoss()\n",
    "loss_optimization_func = optim.Adam(model.parameters(), lr = 0.01)"
   ]
  },
  {
   "cell_type": "code",
   "execution_count": 56,
   "id": "b1f6feef",
   "metadata": {},
   "outputs": [
    {
     "name": "stdout",
     "output_type": "stream",
     "text": [
      "[10/100] Training loss: 2.902060\n",
      "[20/100] Training loss: 1.355459\n",
      "[30/100] Training loss: 0.638978\n",
      "[40/100] Training loss: 0.475616\n",
      "[50/100] Training loss: 0.489379\n",
      "[60/100] Training loss: 0.487556\n",
      "[70/100] Training loss: 0.475832\n",
      "[80/100] Training loss: 0.473529\n",
      "[90/100] Training loss: 0.473977\n",
      "[100/100] Training loss: 0.473621\n"
     ]
    }
   ],
   "source": [
    "# train NN model\n",
    "learning_epochs = 100\n",
    "for epoch in range(learning_epochs):\n",
    "    # pass forward\n",
    "    training_set_predictions = model(training_set_vectors)\n",
    "    training_loss = loss_func(training_set_predictions, training_set_scalars)\n",
    "\n",
    "    # back-propagation\n",
    "    loss_optimization_func.zero_grad()\n",
    "    training_loss.backward()\n",
    "    loss_optimization_func.step()\n",
    "    \n",
    "    # Print progress occasionally\n",
    "    if (epoch+1) % 10 == 0:\n",
    "        print(f\"[{epoch+1}/{learning_epochs}] Training loss: {training_loss.item():.6f}\")"
   ]
  },
  {
   "cell_type": "code",
   "execution_count": 57,
   "id": "8198a735",
   "metadata": {},
   "outputs": [
    {
     "name": "stdout",
     "output_type": "stream",
     "text": [
      "Test loss (MSE): 3.145237\n"
     ]
    }
   ],
   "source": [
    "# evaluate model\n",
    "model.eval()\n",
    "\n",
    "with torch.no_grad():\n",
    "    test_set_predictions = model(test_set_vectors)\n",
    "    test_loss = loss_func(test_set_predictions, test_set_scalars)\n",
    "    print(f\"Test loss (MSE): {test_loss.item():.6f}\")"
   ]
  }
 ],
 "metadata": {
  "kernelspec": {
   "display_name": "Python 3",
   "language": "python",
   "name": "python3"
  },
  "language_info": {
   "codemirror_mode": {
    "name": "ipython",
    "version": 3
   },
   "file_extension": ".py",
   "mimetype": "text/x-python",
   "name": "python",
   "nbconvert_exporter": "python",
   "pygments_lexer": "ipython3",
   "version": "3.13.7"
  }
 },
 "nbformat": 4,
 "nbformat_minor": 5
}
